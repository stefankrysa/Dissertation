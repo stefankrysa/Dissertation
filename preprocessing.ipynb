{
 "cells": [
  {
   "cell_type": "markdown",
   "id": "236373c3",
   "metadata": {
    "ExecuteTime": {
     "end_time": "2025-06-16T11:31:39.580680Z",
     "start_time": "2025-06-16T11:31:39.578608Z"
    },
    "heading_collapsed": true
   },
   "source": [
    "### 0.0. Dependencies"
   ]
  },
  {
   "cell_type": "code",
   "execution_count": 2,
   "id": "fbf0035c",
   "metadata": {
    "ExecuteTime": {
     "end_time": "2025-06-16T11:29:38.926317Z",
     "start_time": "2025-06-16T11:29:33.710476Z"
    },
    "code_folding": [],
    "hidden": true
   },
   "outputs": [
    {
     "name": "stdout",
     "output_type": "stream",
     "text": [
      "Collecting geopandas\n",
      "  Downloading geopandas-0.13.2-py3-none-any.whl (1.1 MB)\n",
      "\u001b[K     |████████████████████████████████| 1.1 MB 32.2 MB/s eta 0:00:01\n",
      "\u001b[?25hRequirement already satisfied: pandas in /opt/conda/lib/python3.8/site-packages (1.2.5)\n",
      "Collecting fiona>=1.8.19\n",
      "  Downloading fiona-1.10.1-cp38-cp38-manylinux_2_17_x86_64.manylinux2014_x86_64.whl (17.3 MB)\n",
      "\u001b[K     |████████████████████████████████| 17.3 MB 140.2 MB/s eta 0:00:01\n",
      "\u001b[?25hRequirement already satisfied: packaging in /opt/conda/lib/python3.8/site-packages (from geopandas) (20.9)\n",
      "Requirement already satisfied: shapely>=1.7.1 in /opt/conda/lib/python3.8/site-packages (from geopandas) (1.7.1)\n",
      "Collecting pyproj>=3.0.1\n",
      "  Downloading pyproj-3.5.0-cp38-cp38-manylinux_2_17_x86_64.manylinux2014_x86_64.whl (7.8 MB)\n",
      "\u001b[K     |████████████████████████████████| 7.8 MB 81.4 MB/s eta 0:00:01\n",
      "\u001b[?25hRequirement already satisfied: numpy>=1.16.5 in /opt/conda/lib/python3.8/site-packages (from pandas) (1.19.5)\n",
      "Requirement already satisfied: pytz>=2017.3 in /opt/conda/lib/python3.8/site-packages (from pandas) (2021.1)\n",
      "Requirement already satisfied: python-dateutil>=2.7.3 in /opt/conda/lib/python3.8/site-packages (from pandas) (2.8.1)\n",
      "Collecting cligj>=0.5\n",
      "  Downloading cligj-0.7.2-py3-none-any.whl (7.1 kB)\n",
      "Collecting click~=8.0\n",
      "  Downloading click-8.1.8-py3-none-any.whl (98 kB)\n",
      "\u001b[K     |████████████████████████████████| 98 kB 36.2 MB/s  eta 0:00:01\n",
      "\u001b[?25hRequirement already satisfied: click-plugins>=1.0 in /opt/conda/lib/python3.8/site-packages (from fiona>=1.8.19->geopandas) (1.1.1)\n",
      "Requirement already satisfied: attrs>=19.2.0 in /opt/conda/lib/python3.8/site-packages (from fiona>=1.8.19->geopandas) (21.2.0)\n",
      "Requirement already satisfied: importlib-metadata in /opt/conda/lib/python3.8/site-packages (from fiona>=1.8.19->geopandas) (4.6.1)\n",
      "Requirement already satisfied: certifi in /opt/conda/lib/python3.8/site-packages (from fiona>=1.8.19->geopandas) (2021.5.30)\n",
      "Requirement already satisfied: six>=1.5 in /opt/conda/lib/python3.8/site-packages (from python-dateutil>=2.7.3->pandas) (1.15.0)\n",
      "Requirement already satisfied: zipp>=0.5 in /opt/conda/lib/python3.8/site-packages (from importlib-metadata->fiona>=1.8.19->geopandas) (3.5.0)\n",
      "Requirement already satisfied: pyparsing>=2.0.2 in /opt/conda/lib/python3.8/site-packages (from packaging->geopandas) (2.4.7)\n",
      "Installing collected packages: click, cligj, pyproj, fiona, geopandas\n",
      "  Attempting uninstall: click\n",
      "    Found existing installation: click 7.1.2\n",
      "    Uninstalling click-7.1.2:\n",
      "      Successfully uninstalled click-7.1.2\n",
      "\u001b[31mERROR: pip's dependency resolver does not currently take into account all the packages that are installed. This behaviour is the source of the following dependency conflicts.\n",
      "typer 0.3.2 requires click<7.2.0,>=7.1.1, but you have click 8.1.8 which is incompatible.\n",
      "streamlit 0.83.0 requires click<8.0,>=7.0, but you have click 8.1.8 which is incompatible.\n",
      "celery 5.1.1 requires click<8.0,>=7.0, but you have click 8.1.8 which is incompatible.\u001b[0m\n",
      "Successfully installed click-8.1.8 cligj-0.7.2 fiona-1.10.1 geopandas-0.13.2 pyproj-3.5.0\n",
      "\u001b[33mWARNING: Running pip as the 'root' user can result in broken permissions and conflicting behaviour with the system package manager. It is recommended to use a virtual environment instead: https://pip.pypa.io/warnings/venv\u001b[0m\n",
      "Note: you may need to restart the kernel to use updated packages.\n"
     ]
    }
   ],
   "source": [
    "#pip install geopandas pandas"
   ]
  },
  {
   "cell_type": "code",
   "execution_count": 3,
   "id": "eaa91f69",
   "metadata": {
    "ExecuteTime": {
     "end_time": "2025-06-16T11:30:14.707381Z",
     "start_time": "2025-06-16T11:30:14.489078Z"
    },
    "hidden": true
   },
   "outputs": [],
   "source": [
    "import geopandas as gpd\n",
    "import pandas as pd\n"
   ]
  },
  {
   "cell_type": "markdown",
   "id": "c76fa7e1",
   "metadata": {},
   "source": [
    "### 1.1 Mobile App Data"
   ]
  },
  {
   "cell_type": "markdown",
   "id": "308552b8",
   "metadata": {},
   "source": [
    "#### 1.1.1 Loading in"
   ]
  },
  {
   "cell_type": "code",
   "execution_count": null,
   "id": "11693708",
   "metadata": {},
   "outputs": [],
   "source": []
  }
 ],
 "metadata": {
  "kernelspec": {
   "display_name": "Python 3",
   "language": "python",
   "name": "python3"
  },
  "language_info": {
   "codemirror_mode": {
    "name": "ipython",
    "version": 3
   },
   "file_extension": ".py",
   "mimetype": "text/x-python",
   "name": "python",
   "nbconvert_exporter": "python",
   "pygments_lexer": "ipython3",
   "version": "3.8.10"
  },
  "toc": {
   "base_numbering": 1,
   "nav_menu": {},
   "number_sections": false,
   "sideBar": true,
   "skip_h1_title": false,
   "title_cell": "Table of Contents",
   "title_sidebar": "Contents",
   "toc_cell": false,
   "toc_position": {},
   "toc_section_display": true,
   "toc_window_display": false
  }
 },
 "nbformat": 4,
 "nbformat_minor": 5
}
