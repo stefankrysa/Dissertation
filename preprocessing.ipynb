{
 "cells": [
  {
   "cell_type": "markdown",
   "id": "236373c3",
   "metadata": {
    "ExecuteTime": {
     "end_time": "2025-06-16T11:31:39.580680Z",
     "start_time": "2025-06-16T11:31:39.578608Z"
    }
   },
   "source": [
    "### 0.0. Dependencies"
   ]
  },
  {
   "cell_type": "code",
   "execution_count": 1,
   "id": "eaa91f69",
   "metadata": {
    "ExecuteTime": {
     "end_time": "2025-06-16T11:55:33.421694Z",
     "start_time": "2025-06-16T11:55:33.419855Z"
    }
   },
   "outputs": [],
   "source": [
    "import geopandas as gpd\n",
    "import pandas as pd"
   ]
  },
  {
   "cell_type": "markdown",
   "id": "c76fa7e1",
   "metadata": {},
   "source": [
    "### 1.1. Mobile App Data"
   ]
  },
  {
   "cell_type": "markdown",
   "id": "308552b8",
   "metadata": {},
   "source": [
    "#### 1.1.1. Loading in"
   ]
  },
  {
   "cell_type": "code",
   "execution_count": null,
   "id": "11693708",
   "metadata": {
    "ExecuteTime": {
     "end_time": "2025-06-16T11:52:27.533129Z",
     "start_time": "2025-06-16T11:52:01.654612Z"
    }
   },
   "outputs": [],
   "source": [
    "## load mobile csv\n",
    "mobile_csv = pd.read_csv(\"Data/Mobile_App_Data_Extract.csv\")"
   ]
  },
  {
   "cell_type": "code",
   "execution_count": 40,
   "id": "9872cdca",
   "metadata": {},
   "outputs": [
    {
     "name": "stdout",
     "output_type": "stream",
     "text": [
      "47207158\n"
     ]
    }
   ],
   "source": [
    "print(len(mobile_csv))"
   ]
  },
  {
   "cell_type": "code",
   "execution_count": null,
   "id": "ffd2ba7c",
   "metadata": {},
   "outputs": [
    {
     "name": "stdout",
     "output_type": "stream",
     "text": [
      "Index(['id', 'year', 'month', 'day', 'hour', 'acorn_group', 'home_country',\n",
      "       'work_country', 'home_distance_band_name', 'work_distance_band_name',\n",
      "       'events'],\n",
      "      dtype='object')\n"
     ]
    }
   ],
   "source": [
    "#check cols\n",
    "print(mobile_csv.columns)"
   ]
  },
  {
   "cell_type": "code",
   "execution_count": null,
   "id": "f8cbe4ab",
   "metadata": {},
   "outputs": [],
   "source": [
    "## load local footprint data\n",
    "locF_ID = pd.read_csv(\"Data/LOCF_ID_Look_Up.csv\")\n",
    "locF_data = pd.read_csv(\"Data/Retail_Footprint_24_INTS_Local_Footprint.csv\")"
   ]
  },
  {
   "cell_type": "code",
   "execution_count": null,
   "id": "b9b98950",
   "metadata": {},
   "outputs": [
    {
     "name": "stdout",
     "output_type": "stream",
     "text": [
      "Index(['id', 'LocF_CentreID', 'LocF_CentreName', 'CentroidX', 'CentroidY'], dtype='object')\n"
     ]
    }
   ],
   "source": [
    "#check cols\n",
    "print(locF_ID.columns)"
   ]
  },
  {
   "cell_type": "code",
   "execution_count": 36,
   "id": "be6a7443",
   "metadata": {
    "ExecuteTime": {
     "end_time": "2025-06-16T11:55:38.183719Z",
     "start_time": "2025-06-16T11:55:38.171408Z"
    }
   },
   "outputs": [],
   "source": [
    "## load locF shapefiles\n",
    "\n",
    "locF_gdf = gpd.read_file(\"Data/Local_Footprint_Boundary.shp\")"
   ]
  },
  {
   "cell_type": "markdown",
   "id": "3f8b976a",
   "metadata": {},
   "source": [
    "#### 1.1.2. Merging"
   ]
  },
  {
   "cell_type": "code",
   "execution_count": null,
   "id": "cbacfbf1",
   "metadata": {},
   "outputs": [],
   "source": [
    "## join locF id with mobile data\n",
    "mobile_locF = mobile_csv.merge(locF_ID[['id', 'LocF_CentreID']], how='left', on='id')"
   ]
  },
  {
   "cell_type": "markdown",
   "id": "b10aac8c",
   "metadata": {},
   "source": [
    "#### ADD LOCF DATA!!!"
   ]
  },
  {
   "cell_type": "code",
   "execution_count": null,
   "id": "4b496b22",
   "metadata": {},
   "outputs": [
    {
     "name": "stdout",
     "output_type": "stream",
     "text": [
      "Index(['id', 'year', 'month', 'day', 'hour', 'acorn_group', 'home_country',\n",
      "       'work_country', 'home_distance_band_name', 'work_distance_band_name',\n",
      "       'events', 'LocF_CentreID'],\n",
      "      dtype='object')\n",
      "id                              0\n",
      "year                            0\n",
      "month                           0\n",
      "day                             0\n",
      "hour                            0\n",
      "acorn_group                611713\n",
      "home_country                    0\n",
      "work_country                    0\n",
      "home_distance_band_name         0\n",
      "work_distance_band_name         0\n",
      "events                          0\n",
      "LocF_CentreID                   0\n",
      "dtype: int64\n"
     ]
    }
   ],
   "source": [
    "#check cols\n",
    "print(mobile_locF.columns)\n",
    "#check NAs\n",
    "print(mobile_locF.isna().sum())"
   ]
  },
  {
   "cell_type": "code",
   "execution_count": 39,
   "id": "4841870b",
   "metadata": {},
   "outputs": [],
   "source": [
    "## merge locF with locF data\n",
    "locF_gdf_merged = locF_gdf.merge(mobile_locF, left_on='Local_Foot', right_on='LocF_CentreID', how='left')\n",
    "locF_gdf_merged = locF_gdf_merged.drop(columns=['Local_Foot'])"
   ]
  },
  {
   "cell_type": "code",
   "execution_count": 41,
   "id": "61334e41",
   "metadata": {},
   "outputs": [
    {
     "name": "stdout",
     "output_type": "stream",
     "text": [
      "Index(['geometry', 'id', 'year', 'month', 'day', 'hour', 'acorn_group',\n",
      "       'home_country', 'work_country', 'home_distance_band_name',\n",
      "       'work_distance_band_name', 'events', 'LocF_CentreID'],\n",
      "      dtype='object')\n"
     ]
    }
   ],
   "source": [
    "print(locF_gdf_merged.columns)"
   ]
  },
  {
   "cell_type": "markdown",
   "id": "fc69b1dd",
   "metadata": {},
   "source": [
    "### 1.2. Retail Typology Data"
   ]
  },
  {
   "cell_type": "markdown",
   "id": "3296e582",
   "metadata": {},
   "source": [
    "#### 1.1.1. Loading in"
   ]
  },
  {
   "cell_type": "code",
   "execution_count": 44,
   "id": "69fffb28",
   "metadata": {},
   "outputs": [],
   "source": [
    "typology = gpd.read_file(\"Data/typology_2022.gpkg\")"
   ]
  }
 ],
 "metadata": {
  "kernelspec": {
   "display_name": "Python 3",
   "language": "python",
   "name": "python3"
  },
  "language_info": {
   "codemirror_mode": {
    "name": "ipython",
    "version": 3
   },
   "file_extension": ".py",
   "mimetype": "text/x-python",
   "name": "python",
   "nbconvert_exporter": "python",
   "pygments_lexer": "ipython3",
   "version": "3.8.10"
  },
  "toc": {
   "base_numbering": 1,
   "nav_menu": {},
   "number_sections": false,
   "sideBar": true,
   "skip_h1_title": false,
   "title_cell": "Table of Contents",
   "title_sidebar": "Contents",
   "toc_cell": false,
   "toc_position": {},
   "toc_section_display": true,
   "toc_window_display": false
  }
 },
 "nbformat": 4,
 "nbformat_minor": 5
}
